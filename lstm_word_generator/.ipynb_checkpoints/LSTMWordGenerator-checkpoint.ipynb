{
 "cells": [
  {
   "cell_type": "markdown",
   "metadata": {},
   "source": [
    "# Imports"
   ]
  },
  {
   "cell_type": "code",
   "execution_count": 66,
   "metadata": {},
   "outputs": [],
   "source": [
    "import numpy as np\n",
    "\n",
    "import pandas as pd\n",
    "from pandas.io.json import json_normalize\n",
    "\n",
    "import matplotlib.pyplot as plt\n",
    "\n",
    "import os\n",
    "\n",
    "import json\n",
    "\n",
    "from tensorflow.keras.layers import Dense, LSTM, Embedding, Dropout\n",
    "from tensorflow.keras.models import Sequential\n",
    "from tensorflow.keras.preprocessing.sequence import pad_sequences\n",
    "from tensorflow.keras.preprocessing.text import Tokenizer\n",
    "import tensorflow.keras.utils as ku \n",
    "from tensorflow.keras.callbacks import EarlyStopping, ModelCheckpoint\n",
    "\n",
    "import string\n",
    "\n",
    "import re"
   ]
  },
  {
   "cell_type": "markdown",
   "metadata": {},
   "source": [
    "# Constants"
   ]
  },
  {
   "cell_type": "code",
   "execution_count": 64,
   "metadata": {
    "collapsed": true
   },
   "outputs": [],
   "source": [
    "BASE_DATA_PATH = os.path.join('fumseck', 'app', 'model')\n",
    "\n",
    "MODEL_LOSS = 'categorical_crossentropy'\n",
    "MODEL_OPTIMIZER = 'adam'\n",
    "MODEL_DENSE_ACTIVATION = 'softmax'\n",
    "MODEL_EMBEDDING_SIZE = 10 \n",
    "MODEL_LSTM_OUTPUT_DIM = 100\n",
    "MODEL_DROPOUT_RATE = 0.2\n",
    "\n",
    "EPOCHS = 100"
   ]
  },
  {
   "cell_type": "markdown",
   "metadata": {},
   "source": [
    "# Read dataset"
   ]
  },
  {
   "cell_type": "code",
   "execution_count": 3,
   "metadata": {
    "collapsed": true
   },
   "outputs": [],
   "source": [
    "def read_json(directory, filename):\n",
    "    path = os.path.join(directory, filename)\n",
    "    return pd.read_json(path)['quizz']\n",
    "\n",
    "dataframes = [read_json(BASE_DATA_PATH, dataset) for dataset in os.listdir(BASE_DATA_PATH)]"
   ]
  },
  {
   "cell_type": "code",
   "execution_count": 22,
   "metadata": {
    "collapsed": true
   },
   "outputs": [],
   "source": [
    "def get_anecdotes(dataframes):\n",
    "    anecdotes = []\n",
    "    for i in range(0, len(dataframes)):\n",
    "        df = dataframes[i]\n",
    "        for level in ['debutant', 'confirme', 'expert']:\n",
    "            for j in range(0, len(df[level])):\n",
    "                anecdotes.append(df[level][j]['anecdote'])\n",
    "    return anecdotes\n",
    "\n",
    "anecdotes = get_anecdotes(dataframes)"
   ]
  },
  {
   "cell_type": "markdown",
   "metadata": {},
   "source": [
    "# Preprocess"
   ]
  },
  {
   "cell_type": "code",
   "execution_count": 23,
   "metadata": {},
   "outputs": [],
   "source": [
    "def preprocess(anecdote):\n",
    "    anecdote = re.sub(\"'|«|»\", \" \", anecdote)\n",
    "    translator = str.maketrans(\"\", \"\", string.punctuation)\n",
    "    anecdote = anecdote.translate(translator)\n",
    "    anecdote = re.sub(\" +\", \" \", anecdote)\n",
    "    return anecdote.lower()\n",
    "\n",
    "anecdotes = [preprocess(anecdote) for anecdote in anecdotes]"
   ]
  },
  {
   "cell_type": "markdown",
   "metadata": {},
   "source": [
    "# Generate sequence of N-grams tokens"
   ]
  },
  {
   "cell_type": "code",
   "execution_count": 28,
   "metadata": {},
   "outputs": [
    {
     "name": "stdout",
     "output_type": "stream",
     "text": [
      "There are 2208 tokens\n"
     ]
    }
   ],
   "source": [
    "tokenizer = Tokenizer()\n",
    "\n",
    "def get_sequence_of_tokens(corpus):\n",
    "    tokenizer.fit_on_texts(corpus)\n",
    "    total_words = len(tokenizer.word_index) + 1\n",
    "    return total_words\n",
    "\n",
    "total_words = get_sequence_of_tokens(anecdotes)\n",
    "print(f\"There are {total_words} tokens\")"
   ]
  },
  {
   "cell_type": "code",
   "execution_count": 39,
   "metadata": {},
   "outputs": [
    {
     "data": {
      "text/plain": [
       "[[6,\n",
       "  5,\n",
       "  243,\n",
       "  1,\n",
       "  2,\n",
       "  244,\n",
       "  1,\n",
       "  5,\n",
       "  502,\n",
       "  1,\n",
       "  503,\n",
       "  245,\n",
       "  504,\n",
       "  15,\n",
       "  142,\n",
       "  26,\n",
       "  143,\n",
       "  1,\n",
       "  505,\n",
       "  19,\n",
       "  100,\n",
       "  506,\n",
       "  3,\n",
       "  507,\n",
       "  508,\n",
       "  101],\n",
       " [246,\n",
       "  10,\n",
       "  247,\n",
       "  4,\n",
       "  248,\n",
       "  144,\n",
       "  27,\n",
       "  12,\n",
       "  509,\n",
       "  13,\n",
       "  41,\n",
       "  3,\n",
       "  510,\n",
       "  60,\n",
       "  15,\n",
       "  511,\n",
       "  512,\n",
       "  28,\n",
       "  3,\n",
       "  102,\n",
       "  4,\n",
       "  7,\n",
       "  8,\n",
       "  145,\n",
       "  146,\n",
       "  9,\n",
       "  513],\n",
       " [10,\n",
       "  249,\n",
       "  1,\n",
       "  2,\n",
       "  514,\n",
       "  7,\n",
       "  9,\n",
       "  74,\n",
       "  515,\n",
       "  23,\n",
       "  15,\n",
       "  516,\n",
       "  24,\n",
       "  147,\n",
       "  29,\n",
       "  3,\n",
       "  41,\n",
       "  12,\n",
       "  517,\n",
       "  250],\n",
       " [6,\n",
       "  251,\n",
       "  12,\n",
       "  252,\n",
       "  518,\n",
       "  519,\n",
       "  7,\n",
       "  148,\n",
       "  520,\n",
       "  18,\n",
       "  14,\n",
       "  38,\n",
       "  149,\n",
       "  18,\n",
       "  150,\n",
       "  26,\n",
       "  253,\n",
       "  32,\n",
       "  521,\n",
       "  522],\n",
       " [523,\n",
       "  4,\n",
       "  524,\n",
       "  7,\n",
       "  3,\n",
       "  151,\n",
       "  525,\n",
       "  526,\n",
       "  1,\n",
       "  103,\n",
       "  527,\n",
       "  17,\n",
       "  9,\n",
       "  254,\n",
       "  528,\n",
       "  4,\n",
       "  529,\n",
       "  17,\n",
       "  530,\n",
       "  531],\n",
       " [532,\n",
       "  17,\n",
       "  533,\n",
       "  534,\n",
       "  535,\n",
       "  7,\n",
       "  147,\n",
       "  29,\n",
       "  5,\n",
       "  9,\n",
       "  12,\n",
       "  75,\n",
       "  255,\n",
       "  103,\n",
       "  6,\n",
       "  256,\n",
       "  13,\n",
       "  536,\n",
       "  537],\n",
       " [538, 34, 539, 43, 540, 10, 541, 257, 4, 542, 42, 35, 5, 258, 1, 76, 543],\n",
       " [14, 544, 545, 7, 244, 8, 546, 28, 152, 77, 547, 1, 259, 153, 4, 548, 1, 549],\n",
       " [550,\n",
       "  551,\n",
       "  552,\n",
       "  18,\n",
       "  553,\n",
       "  554,\n",
       "  555,\n",
       "  154,\n",
       "  8,\n",
       "  556,\n",
       "  19,\n",
       "  557,\n",
       "  155,\n",
       "  11,\n",
       "  8,\n",
       "  558,\n",
       "  559],\n",
       " [560, 561, 5, 562, 44, 6, 35, 563, 1, 564, 260, 1, 261, 22, 565, 566, 1, 261]]"
      ]
     },
     "execution_count": 39,
     "metadata": {},
     "output_type": "execute_result"
    }
   ],
   "source": [
    "token_list = [tokenizer.texts_to_sequences([anecdote])[0] for anecdote in anecdotes]"
   ]
  },
  {
   "cell_type": "code",
   "execution_count": 37,
   "metadata": {},
   "outputs": [],
   "source": [
    "tokenizer = Tokenizer()\n",
    "\n",
    "def get_n_grams_sequence(corpus):\n",
    "    \n",
    "    tokenizer.fit_on_texts(corpus)\n",
    "    total_words = len(tokenizer.word_index) + 1\n",
    "    \n",
    "    ## convert data to sequence of tokens \n",
    "    input_sequences = []\n",
    "    for line in corpus:\n",
    "        token_list = tokenizer.texts_to_sequences([line])[0]\n",
    "        for i in range(1, len(token_list)):\n",
    "            n_gram_sequence = token_list[:i+1]\n",
    "            input_sequences.append(n_gram_sequence)\n",
    "    return input_sequences, total_words\n",
    "    \n",
    "inp_sequences, total_words = get_n_grams_sequence(anecdotes)"
   ]
  },
  {
   "cell_type": "markdown",
   "metadata": {},
   "source": [
    "# Padding sequences and feature-target dataset"
   ]
  },
  {
   "cell_type": "code",
   "execution_count": 40,
   "metadata": {
    "collapsed": true
   },
   "outputs": [],
   "source": [
    "def generate_padded_sequences(input_sequences):\n",
    "    max_sequence_len = max([len(x) for x in input_sequences])\n",
    "    input_sequences = np.array(pad_sequences(input_sequences, maxlen = max_sequence_len, padding = 'pre'))\n",
    "    \n",
    "    predictors, label = input_sequences[:, :-1], input_sequences[:, -1]\n",
    "    label = ku.to_categorical(label, num_classes = total_words)\n",
    "    return predictors, label, max_sequence_len\n",
    "\n",
    "predictors, label, max_sequence_len = generate_padded_sequences(inp_sequences)"
   ]
  },
  {
   "cell_type": "code",
   "execution_count": 44,
   "metadata": {},
   "outputs": [
    {
     "name": "stdout",
     "output_type": "stream",
     "text": [
      "Datas have shape, features : (5023, 29), targets: (5023, 2208)\n"
     ]
    }
   ],
   "source": [
    "print(f\"Datas have shape, features : {predictors.shape}, targets: {label.shape}\")"
   ]
  },
  {
   "cell_type": "markdown",
   "metadata": {},
   "source": [
    "# Create model"
   ]
  },
  {
   "cell_type": "code",
   "execution_count": 55,
   "metadata": {},
   "outputs": [
    {
     "name": "stdout",
     "output_type": "stream",
     "text": [
      "WARNING:tensorflow:From C:\\Users\\jonas.freiburg\\AppData\\Local\\Continuum\\anaconda3\\lib\\site-packages\\tensorflow\\python\\keras\\layers\\core.py:143: calling dropout (from tensorflow.python.ops.nn_ops) with keep_prob is deprecated and will be removed in a future version.\n",
      "Instructions for updating:\n",
      "Please use `rate` instead of `keep_prob`. Rate should be set to `rate = 1 - keep_prob`.\n",
      "_________________________________________________________________\n",
      "Layer (type)                 Output Shape              Param #   \n",
      "=================================================================\n",
      "embedding_1 (Embedding)      (None, 29, 10)            22080     \n",
      "_________________________________________________________________\n",
      "lstm_1 (LSTM)                (None, 100)               44400     \n",
      "_________________________________________________________________\n",
      "dropout (Dropout)            (None, 100)               0         \n",
      "_________________________________________________________________\n",
      "dense (Dense)                (None, 2208)              223008    \n",
      "=================================================================\n",
      "Total params: 289,488\n",
      "Trainable params: 289,488\n",
      "Non-trainable params: 0\n",
      "_________________________________________________________________\n"
     ]
    }
   ],
   "source": [
    "def create_model(max_sequence_len, total_words):\n",
    "    input_len = max_sequence_len - 1\n",
    "    \n",
    "    model = Sequential()\n",
    "    \n",
    "    model.add(Embedding(input_dim = total_words, \n",
    "                        output_dim = MODEL_EMBEDDING_SIZE, \n",
    "                        input_length = input_len))\n",
    "    model.add(LSTM(MODEL_LSTM_OUTPUT_DIM))\n",
    "    model.add(Dropout(MODEL_DROPOUT_RATE))\n",
    "    model.add(Dense(total_words, activation = MODEL_DENSE_ACTIVATION))\n",
    "\n",
    "    model.compile(loss = MODEL_LOSS, optimizer = MODEL_OPTIMIZER)\n",
    "    \n",
    "    return model\n",
    "\n",
    "model = create_model(max_sequence_len, total_words)\n",
    "\n",
    "model.summary()"
   ]
  },
  {
   "cell_type": "markdown",
   "metadata": {},
   "source": [
    "# Model callbacks"
   ]
  },
  {
   "cell_type": "code",
   "execution_count": 72,
   "metadata": {
    "collapsed": true
   },
   "outputs": [],
   "source": [
    "model_ckpt_cb = ModelCheckpoint('text_gen_model.h5', monitor = 'loss', mode = 'min', save_best_only = True)\n",
    "es_cb = EarlyStopping(monitor = 'loss', mode = 'min', verbose = 1, patience = 10)\n",
    "callbacks = [model_ckpt_cb, es_cb]"
   ]
  },
  {
   "cell_type": "markdown",
   "metadata": {},
   "source": [
    "# Fit model"
   ]
  },
  {
   "cell_type": "code",
   "execution_count": 73,
   "metadata": {},
   "outputs": [
    {
     "name": "stdout",
     "output_type": "stream",
     "text": [
      "Epoch 1/100\n",
      "5023/5023 [==============================] - 12s 2ms/sample - loss: 4.3694\n",
      "Epoch 2/100\n",
      "5023/5023 [==============================] - 12s 2ms/sample - loss: 4.3096\n",
      "Epoch 3/100\n",
      "5023/5023 [==============================] - 12s 2ms/sample - loss: 4.2366\n",
      "Epoch 4/100\n",
      "5023/5023 [==============================] - 12s 2ms/sample - loss: 4.1486\n",
      "Epoch 5/100\n",
      "5023/5023 [==============================] - 12s 2ms/sample - loss: 4.0781\n",
      "Epoch 6/100\n",
      "5023/5023 [==============================] - 12s 2ms/sample - loss: 4.0103\n",
      "Epoch 7/100\n",
      "5023/5023 [==============================] - 12s 2ms/sample - loss: 3.9370\n",
      "Epoch 8/100\n",
      "5023/5023 [==============================] - 12s 2ms/sample - loss: 3.8653\n",
      "Epoch 9/100\n",
      "5023/5023 [==============================] - 12s 2ms/sample - loss: 3.7877\n",
      "Epoch 10/100\n",
      "5023/5023 [==============================] - 12s 2ms/sample - loss: 3.7248\n",
      "Epoch 11/100\n",
      "5023/5023 [==============================] - 13s 3ms/sample - loss: 3.6522\n",
      "Epoch 12/100\n",
      "5023/5023 [==============================] - 13s 2ms/sample - loss: 3.5903\n",
      "Epoch 13/100\n",
      "5023/5023 [==============================] - 12s 2ms/sample - loss: 3.5292\n",
      "Epoch 14/100\n",
      "5023/5023 [==============================] - 12s 2ms/sample - loss: 3.4640\n",
      "Epoch 15/100\n",
      "5023/5023 [==============================] - 12s 2ms/sample - loss: 3.3987\n",
      "Epoch 16/100\n",
      "5023/5023 [==============================] - 13s 3ms/sample - loss: 3.3355\n",
      "Epoch 17/100\n",
      "5023/5023 [==============================] - 12s 2ms/sample - loss: 3.2696\n",
      "Epoch 18/100\n",
      "5023/5023 [==============================] - 18s 4ms/sample - loss: 3.2120\n",
      "Epoch 19/100\n",
      "5023/5023 [==============================] - 15s 3ms/sample - loss: 3.1316\n",
      "Epoch 20/100\n",
      "5023/5023 [==============================] - 13s 3ms/sample - loss: 3.0970\n",
      "Epoch 21/100\n",
      "5023/5023 [==============================] - 16s 3ms/sample - loss: 3.0250\n",
      "Epoch 22/100\n",
      "5023/5023 [==============================] - 16s 3ms/sample - loss: 2.9623\n",
      "Epoch 23/100\n",
      "5023/5023 [==============================] - 15s 3ms/sample - loss: 2.9383\n",
      "Epoch 24/100\n",
      "5023/5023 [==============================] - 14s 3ms/sample - loss: 2.8648\n",
      "Epoch 25/100\n",
      "5023/5023 [==============================] - 16s 3ms/sample - loss: 2.8144\n",
      "Epoch 26/100\n",
      "5023/5023 [==============================] - 13s 3ms/sample - loss: 2.7575\n",
      "Epoch 27/100\n",
      "5023/5023 [==============================] - 13s 3ms/sample - loss: 2.7099\n",
      "Epoch 28/100\n",
      "5023/5023 [==============================] - 14s 3ms/sample - loss: 2.6612\n",
      "Epoch 29/100\n",
      "5023/5023 [==============================] - 16s 3ms/sample - loss: 2.6177\n",
      "Epoch 30/100\n",
      "1632/5023 [========>.....................] - ETA: 8s - loss: 2.4982"
     ]
    },
    {
     "ename": "KeyboardInterrupt",
     "evalue": "",
     "output_type": "error",
     "traceback": [
      "\u001b[1;31m---------------------------------------------------------------------------\u001b[0m",
      "\u001b[1;31mKeyboardInterrupt\u001b[0m                         Traceback (most recent call last)",
      "\u001b[1;32m<ipython-input-73-7472f22f94eb>\u001b[0m in \u001b[0;36m<module>\u001b[1;34m()\u001b[0m\n\u001b[1;32m----> 1\u001b[1;33m \u001b[0mhist\u001b[0m \u001b[1;33m=\u001b[0m \u001b[0mmodel\u001b[0m\u001b[1;33m.\u001b[0m\u001b[0mfit\u001b[0m\u001b[1;33m(\u001b[0m\u001b[0mpredictors\u001b[0m\u001b[1;33m,\u001b[0m \u001b[0mlabel\u001b[0m\u001b[1;33m,\u001b[0m \u001b[0mepochs\u001b[0m \u001b[1;33m=\u001b[0m \u001b[0mEPOCHS\u001b[0m\u001b[1;33m,\u001b[0m \u001b[0mverbose\u001b[0m \u001b[1;33m=\u001b[0m \u001b[1;36m1\u001b[0m\u001b[1;33m,\u001b[0m \u001b[0mcallbacks\u001b[0m \u001b[1;33m=\u001b[0m \u001b[0mcallbacks\u001b[0m\u001b[1;33m,\u001b[0m \u001b[0mshuffle\u001b[0m \u001b[1;33m=\u001b[0m \u001b[1;32mTrue\u001b[0m\u001b[1;33m)\u001b[0m\u001b[1;33m\u001b[0m\u001b[1;33m\u001b[0m\u001b[0m\n\u001b[0m",
      "\u001b[1;32m~\\AppData\\Local\\Continuum\\anaconda3\\lib\\site-packages\\tensorflow\\python\\keras\\engine\\training.py\u001b[0m in \u001b[0;36mfit\u001b[1;34m(self, x, y, batch_size, epochs, verbose, callbacks, validation_split, validation_data, shuffle, class_weight, sample_weight, initial_epoch, steps_per_epoch, validation_steps, max_queue_size, workers, use_multiprocessing, **kwargs)\u001b[0m\n\u001b[0;32m    878\u001b[0m           \u001b[0minitial_epoch\u001b[0m\u001b[1;33m=\u001b[0m\u001b[0minitial_epoch\u001b[0m\u001b[1;33m,\u001b[0m\u001b[1;33m\u001b[0m\u001b[1;33m\u001b[0m\u001b[0m\n\u001b[0;32m    879\u001b[0m           \u001b[0msteps_per_epoch\u001b[0m\u001b[1;33m=\u001b[0m\u001b[0msteps_per_epoch\u001b[0m\u001b[1;33m,\u001b[0m\u001b[1;33m\u001b[0m\u001b[1;33m\u001b[0m\u001b[0m\n\u001b[1;32m--> 880\u001b[1;33m           validation_steps=validation_steps)\n\u001b[0m\u001b[0;32m    881\u001b[0m \u001b[1;33m\u001b[0m\u001b[0m\n\u001b[0;32m    882\u001b[0m   def evaluate(self,\n",
      "\u001b[1;32m~\\AppData\\Local\\Continuum\\anaconda3\\lib\\site-packages\\tensorflow\\python\\keras\\engine\\training_arrays.py\u001b[0m in \u001b[0;36mmodel_iteration\u001b[1;34m(model, inputs, targets, sample_weights, batch_size, epochs, verbose, callbacks, val_inputs, val_targets, val_sample_weights, shuffle, initial_epoch, steps_per_epoch, validation_steps, mode, validation_in_fit, **kwargs)\u001b[0m\n\u001b[0;32m    327\u001b[0m \u001b[1;33m\u001b[0m\u001b[0m\n\u001b[0;32m    328\u001b[0m         \u001b[1;31m# Get outputs.\u001b[0m\u001b[1;33m\u001b[0m\u001b[1;33m\u001b[0m\u001b[1;33m\u001b[0m\u001b[0m\n\u001b[1;32m--> 329\u001b[1;33m         \u001b[0mbatch_outs\u001b[0m \u001b[1;33m=\u001b[0m \u001b[0mf\u001b[0m\u001b[1;33m(\u001b[0m\u001b[0mins_batch\u001b[0m\u001b[1;33m)\u001b[0m\u001b[1;33m\u001b[0m\u001b[1;33m\u001b[0m\u001b[0m\n\u001b[0m\u001b[0;32m    330\u001b[0m         \u001b[1;32mif\u001b[0m \u001b[1;32mnot\u001b[0m \u001b[0misinstance\u001b[0m\u001b[1;33m(\u001b[0m\u001b[0mbatch_outs\u001b[0m\u001b[1;33m,\u001b[0m \u001b[0mlist\u001b[0m\u001b[1;33m)\u001b[0m\u001b[1;33m:\u001b[0m\u001b[1;33m\u001b[0m\u001b[1;33m\u001b[0m\u001b[0m\n\u001b[0;32m    331\u001b[0m           \u001b[0mbatch_outs\u001b[0m \u001b[1;33m=\u001b[0m \u001b[1;33m[\u001b[0m\u001b[0mbatch_outs\u001b[0m\u001b[1;33m]\u001b[0m\u001b[1;33m\u001b[0m\u001b[1;33m\u001b[0m\u001b[0m\n",
      "\u001b[1;32m~\\AppData\\Local\\Continuum\\anaconda3\\lib\\site-packages\\tensorflow\\python\\keras\\backend.py\u001b[0m in \u001b[0;36m__call__\u001b[1;34m(self, inputs)\u001b[0m\n\u001b[0;32m   3074\u001b[0m \u001b[1;33m\u001b[0m\u001b[0m\n\u001b[0;32m   3075\u001b[0m     fetched = self._callable_fn(*array_vals,\n\u001b[1;32m-> 3076\u001b[1;33m                                 run_metadata=self.run_metadata)\n\u001b[0m\u001b[0;32m   3077\u001b[0m     \u001b[0mself\u001b[0m\u001b[1;33m.\u001b[0m\u001b[0m_call_fetch_callbacks\u001b[0m\u001b[1;33m(\u001b[0m\u001b[0mfetched\u001b[0m\u001b[1;33m[\u001b[0m\u001b[1;33m-\u001b[0m\u001b[0mlen\u001b[0m\u001b[1;33m(\u001b[0m\u001b[0mself\u001b[0m\u001b[1;33m.\u001b[0m\u001b[0m_fetches\u001b[0m\u001b[1;33m)\u001b[0m\u001b[1;33m:\u001b[0m\u001b[1;33m]\u001b[0m\u001b[1;33m)\u001b[0m\u001b[1;33m\u001b[0m\u001b[1;33m\u001b[0m\u001b[0m\n\u001b[0;32m   3078\u001b[0m     return nest.pack_sequence_as(self._outputs_structure,\n",
      "\u001b[1;32m~\\AppData\\Local\\Continuum\\anaconda3\\lib\\site-packages\\tensorflow\\python\\client\\session.py\u001b[0m in \u001b[0;36m__call__\u001b[1;34m(self, *args, **kwargs)\u001b[0m\n\u001b[0;32m   1437\u001b[0m           ret = tf_session.TF_SessionRunCallable(\n\u001b[0;32m   1438\u001b[0m               \u001b[0mself\u001b[0m\u001b[1;33m.\u001b[0m\u001b[0m_session\u001b[0m\u001b[1;33m.\u001b[0m\u001b[0m_session\u001b[0m\u001b[1;33m,\u001b[0m \u001b[0mself\u001b[0m\u001b[1;33m.\u001b[0m\u001b[0m_handle\u001b[0m\u001b[1;33m,\u001b[0m \u001b[0margs\u001b[0m\u001b[1;33m,\u001b[0m \u001b[0mstatus\u001b[0m\u001b[1;33m,\u001b[0m\u001b[1;33m\u001b[0m\u001b[1;33m\u001b[0m\u001b[0m\n\u001b[1;32m-> 1439\u001b[1;33m               run_metadata_ptr)\n\u001b[0m\u001b[0;32m   1440\u001b[0m         \u001b[1;32mif\u001b[0m \u001b[0mrun_metadata\u001b[0m\u001b[1;33m:\u001b[0m\u001b[1;33m\u001b[0m\u001b[1;33m\u001b[0m\u001b[0m\n\u001b[0;32m   1441\u001b[0m           \u001b[0mproto_data\u001b[0m \u001b[1;33m=\u001b[0m \u001b[0mtf_session\u001b[0m\u001b[1;33m.\u001b[0m\u001b[0mTF_GetBuffer\u001b[0m\u001b[1;33m(\u001b[0m\u001b[0mrun_metadata_ptr\u001b[0m\u001b[1;33m)\u001b[0m\u001b[1;33m\u001b[0m\u001b[1;33m\u001b[0m\u001b[0m\n",
      "\u001b[1;31mKeyboardInterrupt\u001b[0m: "
     ]
    }
   ],
   "source": [
    "hist = model.fit(predictors, label, epochs = EPOCHS, verbose = 1, callbacks = callbacks, shuffle = True)"
   ]
  },
  {
   "cell_type": "markdown",
   "metadata": {},
   "source": [
    "# Plot training history"
   ]
  },
  {
   "cell_type": "code",
   "execution_count": null,
   "metadata": {
    "collapsed": true
   },
   "outputs": [],
   "source": [
    "def plot_training_hist(hist):\n",
    "    \n",
    "    plt.subplot(211)  \n",
    "    plt.plot(hist.history['acc'])  \n",
    "    plt.plot(hist.history['val_acc'])  \n",
    "    plt.title('model accuracy')  \n",
    "    plt.ylabel('accuracy')  \n",
    "    plt.xlabel('epoch')  \n",
    "    plt.legend(['train', 'valid']) \n",
    "\n",
    "    plt.subplot(212)  \n",
    "    plt.plot(hist.history['loss'])  \n",
    "    plt.plot(hist.history['val_loss'])  \n",
    "    plt.title('model loss')  \n",
    "    plt.ylabel('loss')  \n",
    "    plt.xlabel('epoch')  \n",
    "    plt.legend(['train', 'valid'])\n",
    "    \n",
    "plot_training_hist(hist)"
   ]
  },
  {
   "cell_type": "markdown",
   "metadata": {},
   "source": [
    "# Generate text"
   ]
  },
  {
   "cell_type": "code",
   "execution_count": 57,
   "metadata": {
    "collapsed": true
   },
   "outputs": [],
   "source": [
    "def generate_text(seed_text, model, max_sequence_len):\n",
    "    token_list = tokenizer.texts_to_sequences([seed_text])[0]\n",
    "    token_list = pad_sequences([token_list], maxlen = max_sequence_len - 1, padding = 'pre')\n",
    "    predicted = model.predict_classes(token_list, verbose = 0)\n",
    "    print(predicted)\n",
    "    output_word = \"\"\n",
    "    for word,index in tokenizer.word_index.items():\n",
    "        if index == predicted:\n",
    "            output_word = word\n",
    "            break\n",
    "    seed_text += \" \" + output_word\n",
    "return seed_text.title()"
   ]
  },
  {
   "cell_type": "code",
   "execution_count": null,
   "metadata": {
    "collapsed": true
   },
   "outputs": [],
   "source": [
    "print(generate_text(\"united states\", 5, model, max_sequence_len))"
   ]
  }
 ],
 "metadata": {
  "kernelspec": {
   "display_name": "Python 3",
   "language": "python",
   "name": "python3"
  },
  "language_info": {
   "codemirror_mode": {
    "name": "ipython",
    "version": 3
   },
   "file_extension": ".py",
   "mimetype": "text/x-python",
   "name": "python",
   "nbconvert_exporter": "python",
   "pygments_lexer": "ipython3",
   "version": "3.6.8"
  }
 },
 "nbformat": 4,
 "nbformat_minor": 2
}
